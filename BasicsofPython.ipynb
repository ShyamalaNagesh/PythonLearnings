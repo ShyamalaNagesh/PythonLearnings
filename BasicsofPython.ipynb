{
 "cells": [
  {
   "cell_type": "code",
   "execution_count": 1,
   "id": "3e1f7507-9e25-4197-9f4b-a3f6c41a34ea",
   "metadata": {},
   "outputs": [
    {
     "name": "stdout",
     "output_type": "stream",
     "text": [
      "sqrt of 100=10.0\n"
     ]
    }
   ],
   "source": [
    "'''Assignment Lab1:'''\n",
    "'''\n",
    "LE1.1.1Calculate the square root of 5and paste the screenshot of the result.\n",
    "import math library to access the mathematical operations.\n",
    "'''\n",
    "import math\n",
    "\n",
    "sqrNumValue=100\n",
    "res=math.sqrt(sqrNumValue)\n",
    "print(f'sqrt of {sqrNumValue}={res}')\n",
    "\n"
   ]
  },
  {
   "cell_type": "markdown",
   "id": "2b29eb74-df9c-4775-801f-d9ad68d5e7c7",
   "metadata": {},
   "source": [
    "All about strings\n",
    "Strings are amongst the most popular types in Python. We can create them simply by enclosing \n",
    "characters in quotes. Python treats single quotes the same as double quotes. \n",
    "Creatingstrings is as simple as assigning a value to a variable"
   ]
  },
  {
   "cell_type": "code",
   "execution_count": 2,
   "id": "a8a13d60-93c2-4629-9a82-f26d0138f559",
   "metadata": {},
   "outputs": [
    {
     "name": "stdout",
     "output_type": "stream",
     "text": [
      "sayString=Hello Python!!Fun with DM\n",
      "sayString[0]=H\n",
      "sayString[-1]=M --- this is from the end\n",
      "sayString[0:2]=He --- this is from the start\n",
      "sayString[-2]=D --- this is from the end gives D\n",
      "sayString[-2:]=DM --- this is from the end gives DM\n",
      "sayString[2:5]= Python!!Fun with DM --- this is from the end\n"
     ]
    }
   ],
   "source": [
    "'''\n",
    "Program to test with the data types\n",
    "They are immutable changing the data type and variable value\n",
    "changes the type of the variable\n",
    "'''\n",
    "##var declaring this throws an error saying not defined\n",
    "'''\n",
    "Observed\n",
    "traversing from back is always -ve \n",
    "str[start:end]\n",
    "str[-2:] from the end positing gives two letters dont mention the end range\n",
    "str[2:5] gives the string from 2to5\n",
    "\n",
    "'''\n",
    "\n",
    "sayString='Hello Python!!Fun with DM'\n",
    "\n",
    "print(f'sayString={sayString}')\n",
    "print(f'sayString[0]={sayString[0]}')\n",
    "print(f'sayString[-1]={sayString[-1]} --- this is from the end')\n",
    "print(f'sayString[0:2]={sayString[0:2]} --- this is from the start')\n",
    "print(f'sayString[-2]={sayString[-2]} --- this is from the end gives D')\n",
    "print(f'sayString[-2:]={sayString[-2:]} --- this is from the end gives DM')\n",
    "print(f'sayString[2:5]={sayString[5:]} --- this is from the end')"
   ]
  },
  {
   "cell_type": "markdown",
   "id": "15f46d61-90af-4261-aa0c-20e4e912126c",
   "metadata": {},
   "source": [
    "2.4 List\n",
    "\n",
    "The list is a most versatile datatype available in Python which can be written as a list of comma-separated values (items) between square brackets. Important thing about a list is that items in a list need not be of the same type.\n",
    "\n",
    "Syntax: Creating a list is as simple as putting different comma-separated values between square brackets.\n",
    "\n",
    "<variable name> = [value1, value2, value3,...]\n",
    "    \n",
    "Example: list1 = ['physics', 'chemistry', 1997, 2000]\n",
    "    list2 = [1, 2, 3, 4, 5]\n",
    "    list3 = [\"a\", \"b\", \"c\", \"d\"]\n",
    "    list4= [\"a\",10, \"c\",22.70]list1[0]\n",
    "    list2[1:5]\n",
    "    \n",
    "Unlike strings, which are immutable, lists are a mutable type, i.e. it is possible to change their content:\n",
    "    \n",
    "    \n",
    "__lt__ ,__eq__\n",
    "    \n",
    "    these method is been written to check for the objects equality\n",
    "    <,=,>\n",
    "        \n",
    "        \n",
    "Some notes:    \n",
    "Unlike other languages, special characters such as \\n have the same meaning with both single ('...') and double (\"...\") quotes. The only difference between the two is that within single quotes you don’t need to escape \" (but you have to escape \\') and vice versa.\n",
    " \n",
    "\n",
    "    \n",
    "o/p:Python@GeeksforGeeks\n",
    "    \n"
   ]
  },
  {
   "cell_type": "code",
   "execution_count": 3,
   "id": "2105f5bb-1407-4f2b-beb8-88698ce3fe85",
   "metadata": {},
   "outputs": [
    {
     "name": "stdout",
     "output_type": "stream",
     "text": [
      "Python@GeeksforGeeks\n"
     ]
    }
   ],
   "source": [
    "print(\"Python\" , end = '@') \n",
    "print(\"GeeksforGeeks\")"
   ]
  },
  {
   "cell_type": "code",
   "execution_count": 4,
   "id": "affc892b-5221-43e8-9fa1-c73aee351a58",
   "metadata": {},
   "outputs": [
    {
     "name": "stdout",
     "output_type": "stream",
     "text": [
      "numbers from 2:4 [1, 1]\n",
      "Mixed list values ['DM', 'MFDS', 416, 419]\n",
      "numbers from in a reverse sort [6, 5, 3, 2, 1, 1, 1]\n",
      "size  96\n",
      "frequency of a number in a list :3\n"
     ]
    }
   ],
   "source": [
    "numberList=[3,2,1,1,1,5,6]\n",
    "print(f'numbers from 2:4 {numberList[2:4]}')\n",
    "\n",
    "##list can store any kind of datatype\n",
    "##all about access modifiers\n",
    "'''\n",
    " self.name = name             Public\n",
    " self._money = money          Private : Package Level\n",
    " self.__password = password   Super Private\n",
    "'''\n",
    "##\n",
    "mixedList=['DM','MFDS',416,419]\n",
    "print(f'Mixed list values {mixedList}')\n",
    "\n",
    "numberList.sort(reverse=True)\n",
    "print(f'numbers from in a reverse sort {numberList}')\n",
    "\n",
    "print(f'size  {numberList.__sizeof__()}')\n",
    "\n",
    "print(f'frequency of a number in a list :{numberList.count(1)}')\n",
    "\n"
   ]
  },
  {
   "cell_type": "code",
   "execution_count": null,
   "id": "b2ec4c4d-57b4-4d80-b6c5-2d4a7b6f25a0",
   "metadata": {},
   "outputs": [],
   "source": []
  },
  {
   "cell_type": "code",
   "execution_count": 5,
   "id": "73a6d086-6b57-4e0e-a573-e24ad576a029",
   "metadata": {},
   "outputs": [
    {
     "name": "stdout",
     "output_type": "stream",
     "text": [
      "0\n",
      "1\n",
      "1\n",
      "2\n",
      "3\n",
      "5\n",
      "8\n"
     ]
    }
   ],
   "source": [
    "'''simple program for lists'''\n",
    "a,b=0,1\n",
    "while a<10:\n",
    "    print(a)\n",
    "    a,b=b,a+b\n",
    "    \n",
    "    "
   ]
  },
  {
   "cell_type": "code",
   "execution_count": 6,
   "id": "1fcea687-829c-4301-b052-4bfc47cfc8d3",
   "metadata": {},
   "outputs": [
    {
     "name": "stdout",
     "output_type": "stream",
     "text": [
      "None\n",
      "['shyamala', 'Nagesh', 'Kashvi']\n",
      "Kashvi\n"
     ]
    }
   ],
   "source": [
    "myStringlist=[\"shyamala\",\"Nagesh\"]\n",
    "print(myStringlist.insert(2,'Kashvi'))\n",
    "print(myStringlist)\n",
    "print(myStringlist.pop())"
   ]
  },
  {
   "cell_type": "code",
   "execution_count": 7,
   "id": "1c81f330-582d-45b5-b8a1-975e5777cb94",
   "metadata": {},
   "outputs": [
    {
     "name": "stdout",
     "output_type": "stream",
     "text": [
      "\n",
      "Welcome to Python 3.7's help utility!\n",
      "\n",
      "If this is your first time using Python, you should definitely check out\n",
      "the tutorial on the Internet at https://docs.python.org/3.7/tutorial/.\n",
      "\n",
      "Enter the name of any module, keyword, or topic to get help on writing\n",
      "Python programs and using Python modules.  To quit this help utility and\n",
      "return to the interpreter, just type \"quit\".\n",
      "\n",
      "To get a list of available modules, keywords, symbols, or topics, type\n",
      "\"modules\", \"keywords\", \"symbols\", or \"topics\".  Each module also comes\n",
      "with a one-line summary of what it does; to list the modules whose name\n",
      "or summary contain a given string such as \"spam\", type \"modules spam\".\n",
      "\n",
      "\n",
      "You are now leaving help and returning to the Python interpreter.\n",
      "If you want to ask for help on a particular object directly from the\n",
      "interpreter, you can type \"help(object)\".  Executing \"help('string')\"\n",
      "has the same effect as typing a particular string at the help> prompt.\n"
     ]
    }
   ],
   "source": [
    "help()"
   ]
  },
  {
   "cell_type": "code",
   "execution_count": 10,
   "id": "89e7434a-43dc-4871-b05c-df74218ca28d",
   "metadata": {},
   "outputs": [
    {
     "name": "stdout",
     "output_type": "stream",
     "text": [
      "hello\n",
      "(2, 3)\n",
      "('Nagesh', 'shyamala', 'Kashvi', 'vibha')\n"
     ]
    }
   ],
   "source": [
    "##tuple\n",
    "myNewTuple=(1,2,3,4,'hello')\n",
    "print('hello')\n",
    "print(f'{myNewTuple[1:3]}')\n",
    "'''\n",
    "TUPLES are immutable\n",
    "tuples dont have append method\n",
    "so we have to convert tuples into list\n",
    "then we can append\n",
    "they too have mixed datatypes\n",
    "'''\n",
    "tuple1=('Nagesh','shyamala')\n",
    "tuple2=('Kashvi','vibha')\n",
    "\n",
    "'''\n",
    "tuple1.append('add')\n",
    "not exists\n",
    "but u can add one tuple to another\n",
    "'''\n",
    "\n",
    "tuple1+=tuple2\n",
    "\n",
    "print(f'{tuple1}')\n",
    "\n"
   ]
  },
  {
   "cell_type": "code",
   "execution_count": 12,
   "id": "95e5bc5d-21ce-46d5-a665-99bd7d9f72f6",
   "metadata": {},
   "outputs": [
    {
     "data": {
      "text/plain": [
       "('Nagesh', 'shyamala')"
      ]
     },
     "execution_count": 12,
     "metadata": {},
     "output_type": "execute_result"
    }
   ],
   "source": [
    "tuple1[0:2]"
   ]
  },
  {
   "cell_type": "code",
   "execution_count": 13,
   "id": "2e2aa34b-1f28-4293-84d1-eb5f2aff7643",
   "metadata": {},
   "outputs": [],
   "source": [
    "nameString=\"shyamala\""
   ]
  },
  {
   "cell_type": "code",
   "execution_count": 14,
   "id": "5ac62b42-4c05-47b4-a373-c3675cfdc1ca",
   "metadata": {},
   "outputs": [
    {
     "data": {
      "text/plain": [
       "'sh'"
      ]
     },
     "execution_count": 14,
     "metadata": {},
     "output_type": "execute_result"
    }
   ],
   "source": [
    "nameString[0:2]"
   ]
  },
  {
   "cell_type": "code",
   "execution_count": 15,
   "id": "897c5359-8a50-4bb3-99d6-a489b2a01174",
   "metadata": {},
   "outputs": [
    {
     "data": {
      "text/plain": [
       "139740191009072"
      ]
     },
     "execution_count": 15,
     "metadata": {},
     "output_type": "execute_result"
    }
   ],
   "source": [
    "id(nameString)"
   ]
  },
  {
   "cell_type": "code",
   "execution_count": 3,
   "id": "4f64655d-cb11-49d4-a56e-17a58f02e0e4",
   "metadata": {},
   "outputs": [],
   "source": [
    "nameString=\"Rishi\""
   ]
  },
  {
   "cell_type": "code",
   "execution_count": 11,
   "id": "70962329-7704-454b-9480-a51b09ec2b45",
   "metadata": {},
   "outputs": [
    {
     "data": {
      "text/plain": [
       "'h'"
      ]
     },
     "execution_count": 11,
     "metadata": {},
     "output_type": "execute_result"
    }
   ],
   "source": [
    "id(nameString)\n",
    "type(nameString)\n",
    "len(nameString)\n",
    "nameString*3\n",
    "nameString[3:-1]"
   ]
  },
  {
   "cell_type": "code",
   "execution_count": 27,
   "id": "5b5fe952-5abf-43ec-94ee-9690c51e90e7",
   "metadata": {},
   "outputs": [
    {
     "name": "stdout",
     "output_type": "stream",
     "text": [
      "15\n",
      "5\n",
      "[1, 2, 3, 4, 5, [8, 9, 10]]\n",
      "[1, 2, 3]\n"
     ]
    }
   ],
   "source": [
    "list_myList=[1,2,3,4,5]\n",
    "print(sum(list_myList))\n",
    "print(max(list_myList))\n",
    "list_sample=[8,9,10]\n",
    "list_myList.append(list_sample)\n",
    "print(list_myList)\n",
    "print(list_myList[:])\n"
   ]
  },
  {
   "cell_type": "code",
   "execution_count": 13,
   "id": "eb24684f-8368-446e-a3c4-9293cd7ea18c",
   "metadata": {},
   "outputs": [
    {
     "name": "stdout",
     "output_type": "stream",
     "text": [
      "-1\n"
     ]
    }
   ],
   "source": [
    "name=\"Nagesh\"\n",
    "val=name.find(\"rr\")\n",
    "print(val)"
   ]
  }
 ],
 "metadata": {
  "kernelspec": {
   "display_name": "Python 3",
   "language": "python",
   "name": "python3"
  },
  "language_info": {
   "codemirror_mode": {
    "name": "ipython",
    "version": 3
   },
   "file_extension": ".py",
   "mimetype": "text/x-python",
   "name": "python",
   "nbconvert_exporter": "python",
   "pygments_lexer": "ipython3",
   "version": "3.7.6"
  }
 },
 "nbformat": 4,
 "nbformat_minor": 5
}
