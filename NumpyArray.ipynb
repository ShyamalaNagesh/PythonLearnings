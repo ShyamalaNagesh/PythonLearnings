{
 "cells": [
  {
   "cell_type": "code",
   "execution_count": 3,
   "id": "57240ea9-8f8d-4484-9d54-9cb401a19983",
   "metadata": {},
   "outputs": [
    {
     "name": "stdout",
     "output_type": "stream",
     "text": [
      "[ 0  1  2  3  4  5  6  7  8  9 10 11 12 13 14 15 16 17 18 19 20 21 22 23\n",
      " 24 25 26]\n"
     ]
    }
   ],
   "source": [
    "##usually the images will be stored in terms of pixels\n",
    "##to do this we use numpy\n",
    "import numpy as np\n",
    "n=np.arange(27)\n",
    "print(n)"
   ]
  },
  {
   "cell_type": "code",
   "execution_count": 4,
   "id": "962e4c99-4664-4778-91ed-1aba1e1626e4",
   "metadata": {},
   "outputs": [
    {
     "data": {
      "text/plain": [
       "array([[ 0,  1,  2,  3,  4,  5,  6,  7,  8],\n",
       "       [ 9, 10, 11, 12, 13, 14, 15, 16, 17],\n",
       "       [18, 19, 20, 21, 22, 23, 24, 25, 26]])"
      ]
     },
     "execution_count": 4,
     "metadata": {},
     "output_type": "execute_result"
    }
   ],
   "source": [
    "##2d array\n",
    "n.reshape(3,9)"
   ]
  },
  {
   "cell_type": "code",
   "execution_count": 5,
   "id": "c658ca5d-b96a-4b2c-afc4-230b90397ea8",
   "metadata": {},
   "outputs": [
    {
     "data": {
      "text/plain": [
       "array([[[ 0,  1,  2],\n",
       "        [ 3,  4,  5],\n",
       "        [ 6,  7,  8]],\n",
       "\n",
       "       [[ 9, 10, 11],\n",
       "        [12, 13, 14],\n",
       "        [15, 16, 17]],\n",
       "\n",
       "       [[18, 19, 20],\n",
       "        [21, 22, 23],\n",
       "        [24, 25, 26]]])"
      ]
     },
     "execution_count": 5,
     "metadata": {},
     "output_type": "execute_result"
    }
   ],
   "source": [
    "##3d array\n",
    "n.reshape(3,3,3)"
   ]
  },
  {
   "cell_type": "code",
   "execution_count": 12,
   "id": "1aad68d2-9f35-4dba-9626-83207049d670",
   "metadata": {},
   "outputs": [
    {
     "name": "stdout",
     "output_type": "stream",
     "text": [
      "[[ 1  2  3]\n",
      " [ 5  6  7]\n",
      " [ 8  9 45]]\n"
     ]
    }
   ],
   "source": [
    "##to convert lists to array\n",
    "ary=np.asarray([[1,2,3],[5,6,7],[8,9,45]])\n",
    "print(ary)"
   ]
  },
  {
   "cell_type": "code",
   "execution_count": 16,
   "id": "a8f25d25-4982-460b-a7a3-28d8f24d3d73",
   "metadata": {},
   "outputs": [
    {
     "name": "stdout",
     "output_type": "stream",
     "text": [
      "[list([1, 2, 3]) list([]) list([])]\n"
     ]
    }
   ],
   "source": [
    "ar=np.asarray([[1,2,3],[],[]])\n",
    "print(ar)"
   ]
  },
  {
   "cell_type": "code",
   "execution_count": 17,
   "id": "2324ab99-5da9-4d00-9df2-de8aa2945953",
   "metadata": {},
   "outputs": [
    {
     "data": {
      "text/plain": [
       "numpy.ndarray"
      ]
     },
     "execution_count": 17,
     "metadata": {},
     "output_type": "execute_result"
    }
   ],
   "source": [
    "type(ar)"
   ]
  },
  {
   "cell_type": "raw",
   "id": "8fc174f0-ff9a-4a0d-b9c4-c8151745ac0d",
   "metadata": {},
   "source": [
    "Installing OpenCV\n",
    "\n",
    "In the next lecture, and in Section 17, we will use the OpenCV image processing library. Let us first make sure you have installed the OpenCV library. OpenCV is also referred to as cv2 in Python.\n",
    "\n",
    "\n",
    "How to Install OpenCV\n",
    "\n",
    "To install OpenCV for Python 3.9 on Mac or Linux, execute the following in the terminal:\n",
    "\n",
    "python3.9 -m pip install opencv-python\n",
    "\n",
    "To install OpenCV for Python 3.9 on Windows, execute the following in the terminal:\n",
    "\n",
    "py -3.9 -m pip install opencv-python\n",
    "\n",
    "Note: The above commands work for Python 3.9. You may need to replace the 3.9 part from the commands with the number of the Python version you are using in your system. For example, you may need to type python3.10 instead of python3.9.\n",
    "\n",
    "Once the installation completes, open a Python session and try:\n",
    "\n",
    "import cv2 \n",
    "\n",
    "If you get no errors, you installed OpenCV successfully. If you get an error, see the FAQs below:\n",
    "\n",
    "\n",
    "FAQs\n",
    "\n",
    "1. My OpenCV installation didn't work on Windows\n",
    "\n",
    "Solution:\n",
    "\n",
    "1. Uninstall OpenCV with:\n",
    "\n",
    "py -3.9 -m pip uninstall opencv-python\n",
    "\n",
    "2. Download a wheel (.whl) file from this link and install the file with pip. Make sure you download the correct file for your Windows and your Python versions. For example, for Python 3.6 on Windows 64-bit, you would do this:\n",
    "\n",
    "py -3.9 -m pip install opencv_python‑3.2.0‑cp39‑cp39m‑win_amd64.whl \n",
    "\n",
    "3. Try to import cv2 in Python again. If there's still an error, type the following again in the command line:\n",
    "\n",
    "py -3.9 -m pip install opencv-python \n",
    "4. Try importing cv2 again. It should work at this point.\n",
    "\n",
    "\n",
    "2. My OpenCV installation didn't work on Mac\n",
    "\n",
    "Solution:\n",
    "\n",
    "If python3.9 -m pip install opencv-python here are alternative steps to install OpenCV:\n",
    "\n",
    "1. Install brew.\n",
    "\n",
    "To install brew, open your terminal, and execute the following:\n",
    "\n",
    "/usr/bin/ruby -e \"$(curl -fsSL https://raw.githubusercontent.com/Homebrew/install/master/install)\"\n",
    "\n",
    "2. OpenCV depends on GTK+, so install that dependency first with brew (always from the terminal):\n",
    "\n",
    "brew install gtk+ \n",
    "\n",
    "3. Install OpenCV with brew:\n",
    "\n",
    "brew install opencv \n",
    "\n",
    "4. Open Python and try to import OpenCV with:\n",
    "\n",
    "import cv2 \n",
    "\n",
    "If you get no errors, you installed OpenCV successfully.\n",
    "\n",
    "\n",
    "3. My OpenCV installation didn't work on Linux\n",
    "\n",
    "1. Open your terminal and execute the following commands, one by one:\n",
    "\n",
    "    sudo apt-get install libqt4-dev\n",
    "    cmake -D WITH_QT=ON ..\n",
    "    make\n",
    "    sudo make install\n",
    "\n",
    "2. 2. If the above commands don't work, execute this:\n",
    "\n",
    "    sudo apt-get install libopencv-*\n",
    "\n",
    "3. Then, install OpenCV with pip:\n",
    "\n",
    "python3.9 -m pip install opencv-python \n",
    "\n",
    "4. Import cv2 in Python. If you get no errors, you installed OpenCV successfully."
   ]
  }
 ],
 "metadata": {
  "kernelspec": {
   "display_name": "Python 3",
   "language": "python",
   "name": "python3"
  },
  "language_info": {
   "codemirror_mode": {
    "name": "ipython",
    "version": 3
   },
   "file_extension": ".py",
   "mimetype": "text/x-python",
   "name": "python",
   "nbconvert_exporter": "python",
   "pygments_lexer": "ipython3",
   "version": "3.7.6"
  }
 },
 "nbformat": 4,
 "nbformat_minor": 5
}
